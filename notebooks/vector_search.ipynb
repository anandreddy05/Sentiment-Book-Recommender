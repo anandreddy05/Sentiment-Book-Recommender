{
 "cells": [
  {
   "cell_type": "code",
   "execution_count": null,
   "metadata": {},
   "outputs": [],
   "source": [
    "import pandas as pd\n",
    "df = pd.read_csv(\"../datasets/books_data.csv\")\n",
    "df"
   ]
  },
  {
   "cell_type": "code",
   "execution_count": null,
   "metadata": {},
   "outputs": [],
   "source": [
    "from langchain_community.document_loaders import TextLoader\n",
    "from langchain_text_splitters import CharacterTextSplitter\n",
    "from langchain_huggingface import ChatHuggingFace\n",
    "import faiss\n",
    "from langchain_community.vectorstores import FAISS\n",
    "from dotenv import load_dotenv\n",
    "load_dotenv()"
   ]
  },
  {
   "cell_type": "code",
   "execution_count": 45,
   "metadata": {},
   "outputs": [],
   "source": [
    "df[\"tagged_desc\"] = df[\"FormattedBookID\"].astype(str) + \" \" + df[\"Description\"].fillna(\"\")\n"
   ]
  },
  {
   "cell_type": "code",
   "execution_count": null,
   "metadata": {},
   "outputs": [],
   "source": [
    "df"
   ]
  },
  {
   "cell_type": "code",
   "execution_count": null,
   "metadata": {},
   "outputs": [],
   "source": [
    "df[\"tagged_desc\"]"
   ]
  },
  {
   "cell_type": "code",
   "execution_count": 48,
   "metadata": {},
   "outputs": [],
   "source": [
    "df[\"tagged_desc\"].to_csv(\"tagged_desc.txt\",\n",
    "                         index = False,\n",
    "                         sep=\"\\n\",\n",
    "                         header=False)"
   ]
  },
  {
   "cell_type": "code",
   "execution_count": null,
   "metadata": {},
   "outputs": [],
   "source": [
    "raw_docs = TextLoader(\"tagged_desc.txt\",encoding=\"utf-8\").load()\n",
    "text_splitters = CharacterTextSplitter(chunk_size=1500,chunk_overlap=0,separator=\"\\n\")\n",
    "documents = text_splitters.split_documents(raw_docs)"
   ]
  },
  {
   "cell_type": "code",
   "execution_count": null,
   "metadata": {},
   "outputs": [],
   "source": [
    "documents[0]"
   ]
  },
  {
   "cell_type": "code",
   "execution_count": 51,
   "metadata": {},
   "outputs": [],
   "source": [
    "import os\n",
    "from langchain_huggingface import HuggingFaceEmbeddings\n",
    "embeddings = HuggingFaceEmbeddings(\n",
    "    model_name=\"all-MiniLM-L6-v2\",\n",
    "    model_kwargs = {'device':'cuda'}\n",
    ")\n",
    "db_books = FAISS.from_documents(\n",
    "    documents=documents,\n",
    "    embedding=embeddings\n",
    ")"
   ]
  },
  {
   "cell_type": "code",
   "execution_count": null,
   "metadata": {},
   "outputs": [],
   "source": [
    "query = \"A book to know about Harry Potter\"\n",
    "docs = db_books.similarity_search(query,k=5)\n",
    "\n",
    "for doc in docs:\n",
    "    print(\"\\nDocuments ID:\",doc.id)\n",
    "    print(\"Metadata:\",doc.metadata)\n",
    "    print(\"Content:\",doc.page_content[:100])\n",
    "    print(\"-\"*50)\n",
    "    "
   ]
  },
  {
   "cell_type": "code",
   "execution_count": 57,
   "metadata": {},
   "outputs": [],
   "source": [
    "def similar_recommendations(query: str, top_k: int = 10) -> pd.DataFrame:\n",
    "    recs = db_books.similarity_search(query, k=5)\n",
    "    books_list = []\n",
    "    \n",
    "    for rec in recs:\n",
    "        first_word = rec.page_content.strip().split()[0]  \n",
    "        \n",
    "        if first_word.startswith(\"BK\") and first_word[2:].isdigit():\n",
    "            books_list.append(first_word)  \n",
    "        else:\n",
    "            print(f\"Skipping document with invalid or missing BookID: {rec.id}\")\n",
    "    \n",
    "    return df[df[\"FormattedBookID\"].isin(books_list)].head(top_k)\n",
    "\n"
   ]
  },
  {
   "cell_type": "code",
   "execution_count": null,
   "metadata": {},
   "outputs": [],
   "source": [
    "similar_recommendations(\"Harry Potter\")"
   ]
  },
  {
   "cell_type": "code",
   "execution_count": null,
   "metadata": {},
   "outputs": [],
   "source": []
  }
 ],
 "metadata": {
  "kernelspec": {
   "display_name": "myenv",
   "language": "python",
   "name": "python3"
  },
  "language_info": {
   "codemirror_mode": {
    "name": "ipython",
    "version": 3
   },
   "file_extension": ".py",
   "mimetype": "text/x-python",
   "name": "python",
   "nbconvert_exporter": "python",
   "pygments_lexer": "ipython3",
   "version": "3.12.7"
  }
 },
 "nbformat": 4,
 "nbformat_minor": 2
}
