{
 "cells": [
  {
   "cell_type": "code",
   "execution_count": null,
   "metadata": {},
   "outputs": [],
   "source": [
    "import pandas as pd\n",
    "books = pd.read_csv(\"../datasets/books_with_emotion.csv\")\n",
    "books"
   ]
  },
  {
   "cell_type": "code",
   "execution_count": 36,
   "metadata": {},
   "outputs": [],
   "source": [
    "df = books[[\"FormattedBookID\",\"URL\"]]"
   ]
  },
  {
   "cell_type": "code",
   "execution_count": 28,
   "metadata": {},
   "outputs": [],
   "source": [
    "import numpy as np\n",
    "from bs4 import BeautifulSoup\n",
    "import requests\n",
    "\n",
    "headers = {\n",
    "    'User-Agent': 'Mozilla/5.0 (Windows NT 10.0; Win64; x64) AppleWebKit/537.36 (KHTML, like Gecko) Chrome/58.0.3029.110 Safari/537.3'\n",
    "}"
   ]
  },
  {
   "cell_type": "code",
   "execution_count": 46,
   "metadata": {},
   "outputs": [],
   "source": [
    "import requests\n",
    "from bs4 import BeautifulSoup\n",
    "from concurrent.futures import ThreadPoolExecutor, as_completed\n",
    "import time\n",
    "from tqdm import tqdm\n",
    "import pandas as pd\n",
    "\n",
    "# Custom headers to avoid being blocked\n",
    "headers = {\n",
    "    'User-Agent': 'Mozilla/5.0 (Windows NT 10.0; Win64; x64) AppleWebKit/537.36 (KHTML, like Gecko) Chrome/58.0.3029.110 Safari/537.3'\n",
    "}\n",
    "\n",
    "# Function to scrape the book image URL\n",
    "def scrape_images(url):\n",
    "    try:\n",
    "        response = requests.get(url, headers=headers, timeout=10)\n",
    "        if response.status_code == 200:\n",
    "            soup = BeautifulSoup(response.text, 'html.parser')\n",
    "            og_image_tag = soup.find('meta', {'property': 'og:image'})\n",
    "            if og_image_tag:\n",
    "                return og_image_tag['content']\n",
    "        return \"Not Found\"\n",
    "    except requests.exceptions.RequestException:\n",
    "        return \"Request Failed\""
   ]
  },
  {
   "cell_type": "code",
   "execution_count": null,
   "metadata": {},
   "outputs": [],
   "source": [
    "url = \"https://www.goodreads.com/book/show/72193.Harry_Potter_and_the_Philosopher_s_Stone\"\n",
    "scrape_images(url)"
   ]
  },
  {
   "cell_type": "code",
   "execution_count": null,
   "metadata": {},
   "outputs": [],
   "source": [
    "# Number of threads for parallel processing\n",
    "MAX_THREADS = 20  \n",
    "# Progress bar setup\n",
    "tqdm.pandas()\n",
    "\n",
    "# Start timing\n",
    "start_time = time.time()\n",
    "\n",
    "# Run scraping in parallel\n",
    "image_results = []\n",
    "with ThreadPoolExecutor(max_workers=MAX_THREADS) as executor:\n",
    "    future_to_url = {executor.submit(scrape_images, url): url for url in df[\"URL\"]}\n",
    "    \n",
    "    for future in tqdm(as_completed(future_to_url), total=len(df), desc=\"Scraping Images\"):\n",
    "        url = future_to_url[future]\n",
    "        try:\n",
    "            image_url = future.result()\n",
    "        except Exception:\n",
    "            image_url = \"Error\"\n",
    "        image_results.append((url, image_url))\n",
    "\n",
    "# Convert results to a dictionary and update the DataFrame\n",
    "image_dict = dict(image_results)\n",
    "df[\"Img_Path\"] = df[\"URL\"].map(image_dict)\n",
    "\n",
    "# End timing\n",
    "end_time = time.time()\n",
    "total_time = end_time - start_time\n",
    "\n",
    "print(f\"\\n✅ Scraped {len(df)} books in {total_time:.2f} seconds using {MAX_THREADS} threads!\")\n",
    "print(df.head())  # Show the first few rows"
   ]
  },
  {
   "cell_type": "code",
   "execution_count": 49,
   "metadata": {},
   "outputs": [],
   "source": [
    "df.to_csv(\"Books_Img_Path\",index=False)"
   ]
  },
  {
   "cell_type": "code",
   "execution_count": null,
   "metadata": {},
   "outputs": [],
   "source": [
    "df[\"Img_Path\"][0]"
   ]
  },
  {
   "cell_type": "code",
   "execution_count": null,
   "metadata": {},
   "outputs": [],
   "source": [
    "df"
   ]
  },
  {
   "cell_type": "code",
   "execution_count": null,
   "metadata": {},
   "outputs": [],
   "source": [
    "books = pd.merge(df[[\"FormattedBookID\",\"Img_Path\"]],books,on=\"FormattedBookID\")"
   ]
  },
  {
   "cell_type": "code",
   "execution_count": null,
   "metadata": {},
   "outputs": [],
   "source": [
    "books.to_csv(\"books_with_image_paths.csv\",index=False)"
   ]
  },
  {
   "cell_type": "code",
   "execution_count": null,
   "metadata": {},
   "outputs": [],
   "source": []
  }
 ],
 "metadata": {
  "kernelspec": {
   "display_name": "myenv",
   "language": "python",
   "name": "python3"
  },
  "language_info": {
   "codemirror_mode": {
    "name": "ipython",
    "version": 3
   },
   "file_extension": ".py",
   "mimetype": "text/x-python",
   "name": "python",
   "nbconvert_exporter": "python",
   "pygments_lexer": "ipython3",
   "version": "3.12.7"
  }
 },
 "nbformat": 4,
 "nbformat_minor": 2
}
