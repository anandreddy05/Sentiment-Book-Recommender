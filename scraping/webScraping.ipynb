{
 "cells": [
  {
   "cell_type": "code",
   "execution_count": 1,
   "metadata": {},
   "outputs": [
    {
     "name": "stderr",
     "output_type": "stream",
     "text": [
      "d:\\GEN AI\\Sentiment-BookRecommender\\myenv\\Lib\\site-packages\\tqdm\\auto.py:21: TqdmWarning: IProgress not found. Please update jupyter and ipywidgets. See https://ipywidgets.readthedocs.io/en/stable/user_install.html\n",
      "  from .autonotebook import tqdm as notebook_tqdm\n"
     ]
    },
    {
     "name": "stdout",
     "output_type": "stream",
     "text": [
      "Path to dataset files: C:\\Users\\ANAND REDDY\\.cache\\kagglehub\\datasets\\ishikajohari\\best-books-10k-multi-genre-data\\versions\\2\n"
     ]
    }
   ],
   "source": [
    "import kagglehub\n",
    "\n",
    "# Download latest version\n",
    "path = kagglehub.dataset_download(\"ishikajohari/best-books-10k-multi-genre-data\")\n",
    "\n",
    "print(\"Path to dataset files:\", path)"
   ]
  },
  {
   "cell_type": "code",
   "execution_count": 5,
   "metadata": {},
   "outputs": [
    {
     "data": {
      "text/html": [
       "<div>\n",
       "<style scoped>\n",
       "    .dataframe tbody tr th:only-of-type {\n",
       "        vertical-align: middle;\n",
       "    }\n",
       "\n",
       "    .dataframe tbody tr th {\n",
       "        vertical-align: top;\n",
       "    }\n",
       "\n",
       "    .dataframe thead th {\n",
       "        text-align: right;\n",
       "    }\n",
       "</style>\n",
       "<table border=\"1\" class=\"dataframe\">\n",
       "  <thead>\n",
       "    <tr style=\"text-align: right;\">\n",
       "      <th></th>\n",
       "      <th>Unnamed: 0</th>\n",
       "      <th>Book</th>\n",
       "      <th>Author</th>\n",
       "      <th>Description</th>\n",
       "      <th>Genres</th>\n",
       "      <th>Avg_Rating</th>\n",
       "      <th>Num_Ratings</th>\n",
       "      <th>URL</th>\n",
       "    </tr>\n",
       "  </thead>\n",
       "  <tbody>\n",
       "    <tr>\n",
       "      <th>0</th>\n",
       "      <td>0</td>\n",
       "      <td>To Kill a Mockingbird</td>\n",
       "      <td>Harper Lee</td>\n",
       "      <td>The unforgettable novel of a childhood in a sl...</td>\n",
       "      <td>['Classics', 'Fiction', 'Historical Fiction', ...</td>\n",
       "      <td>4.27</td>\n",
       "      <td>5,691,311</td>\n",
       "      <td>https://www.goodreads.com/book/show/2657.To_Ki...</td>\n",
       "    </tr>\n",
       "    <tr>\n",
       "      <th>1</th>\n",
       "      <td>1</td>\n",
       "      <td>Harry Potter and the Philosopher’s Stone (Harr...</td>\n",
       "      <td>J.K. Rowling</td>\n",
       "      <td>Harry Potter thinks he is an ordinary boy - un...</td>\n",
       "      <td>['Fantasy', 'Fiction', 'Young Adult', 'Magic',...</td>\n",
       "      <td>4.47</td>\n",
       "      <td>9,278,135</td>\n",
       "      <td>https://www.goodreads.com/book/show/72193.Harr...</td>\n",
       "    </tr>\n",
       "    <tr>\n",
       "      <th>2</th>\n",
       "      <td>2</td>\n",
       "      <td>Pride and Prejudice</td>\n",
       "      <td>Jane Austen</td>\n",
       "      <td>Since its immediate success in 1813, Pride and...</td>\n",
       "      <td>['Classics', 'Fiction', 'Romance', 'Historical...</td>\n",
       "      <td>4.28</td>\n",
       "      <td>3,944,155</td>\n",
       "      <td>https://www.goodreads.com/book/show/1885.Pride...</td>\n",
       "    </tr>\n",
       "    <tr>\n",
       "      <th>3</th>\n",
       "      <td>3</td>\n",
       "      <td>The Diary of a Young Girl</td>\n",
       "      <td>Anne Frank</td>\n",
       "      <td>Discovered in the attic in which she spent the...</td>\n",
       "      <td>['Classics', 'Nonfiction', 'History', 'Biograp...</td>\n",
       "      <td>4.18</td>\n",
       "      <td>3,488,438</td>\n",
       "      <td>https://www.goodreads.com/book/show/48855.The_...</td>\n",
       "    </tr>\n",
       "    <tr>\n",
       "      <th>4</th>\n",
       "      <td>4</td>\n",
       "      <td>Animal Farm</td>\n",
       "      <td>George Orwell</td>\n",
       "      <td>Librarian's note: There is an Alternate Cover ...</td>\n",
       "      <td>['Classics', 'Fiction', 'Dystopia', 'Fantasy',...</td>\n",
       "      <td>3.98</td>\n",
       "      <td>3,575,172</td>\n",
       "      <td>https://www.goodreads.com/book/show/170448.Ani...</td>\n",
       "    </tr>\n",
       "    <tr>\n",
       "      <th>...</th>\n",
       "      <td>...</td>\n",
       "      <td>...</td>\n",
       "      <td>...</td>\n",
       "      <td>...</td>\n",
       "      <td>...</td>\n",
       "      <td>...</td>\n",
       "      <td>...</td>\n",
       "      <td>...</td>\n",
       "    </tr>\n",
       "    <tr>\n",
       "      <th>9995</th>\n",
       "      <td>9995</td>\n",
       "      <td>Breeders (Breeders Trilogy, #1)</td>\n",
       "      <td>Ashley Quigley</td>\n",
       "      <td>How far would you go? If human society was gen...</td>\n",
       "      <td>['Dystopia', 'Science Fiction', 'Post Apocalyp...</td>\n",
       "      <td>3.44</td>\n",
       "      <td>276</td>\n",
       "      <td>https://www.goodreads.com/book/show/22085400-b...</td>\n",
       "    </tr>\n",
       "    <tr>\n",
       "      <th>9996</th>\n",
       "      <td>9996</td>\n",
       "      <td>Dynamo</td>\n",
       "      <td>Eleanor Gustafson</td>\n",
       "      <td>Jeth Cavanaugh is searching for a new life alo...</td>\n",
       "      <td>[]</td>\n",
       "      <td>4.23</td>\n",
       "      <td>60</td>\n",
       "      <td>https://www.goodreads.com/book/show/20862902-d...</td>\n",
       "    </tr>\n",
       "    <tr>\n",
       "      <th>9997</th>\n",
       "      <td>9997</td>\n",
       "      <td>The Republic of Trees</td>\n",
       "      <td>Sam Taylor</td>\n",
       "      <td>This dark fable tells the story of four Englis...</td>\n",
       "      <td>['Fiction', 'Horror', 'Dystopia', 'Coming Of A...</td>\n",
       "      <td>3.29</td>\n",
       "      <td>383</td>\n",
       "      <td>https://www.goodreads.com/book/show/891262.The...</td>\n",
       "    </tr>\n",
       "    <tr>\n",
       "      <th>9998</th>\n",
       "      <td>9998</td>\n",
       "      <td>Waking Up (Healing Hearts, #1)</td>\n",
       "      <td>Renee Dyer</td>\n",
       "      <td>For Adriana Monroe life couldn’t get any bette...</td>\n",
       "      <td>['New Adult', 'Romance', 'Contemporary Romance...</td>\n",
       "      <td>4.13</td>\n",
       "      <td>263</td>\n",
       "      <td>https://www.goodreads.com/book/show/19347252-w...</td>\n",
       "    </tr>\n",
       "    <tr>\n",
       "      <th>9999</th>\n",
       "      <td>9999</td>\n",
       "      <td>Bits and Pieces: Tales and Sonnets</td>\n",
       "      <td>Jas T. Ward</td>\n",
       "      <td>After demands of thousands of fans in various ...</td>\n",
       "      <td>[]</td>\n",
       "      <td>5.00</td>\n",
       "      <td>36</td>\n",
       "      <td>https://www.goodreads.com/book/show/21302552-b...</td>\n",
       "    </tr>\n",
       "  </tbody>\n",
       "</table>\n",
       "<p>10000 rows × 8 columns</p>\n",
       "</div>"
      ],
      "text/plain": [
       "      Unnamed: 0                                               Book  \\\n",
       "0              0                              To Kill a Mockingbird   \n",
       "1              1  Harry Potter and the Philosopher’s Stone (Harr...   \n",
       "2              2                                Pride and Prejudice   \n",
       "3              3                          The Diary of a Young Girl   \n",
       "4              4                                        Animal Farm   \n",
       "...          ...                                                ...   \n",
       "9995        9995                    Breeders (Breeders Trilogy, #1)   \n",
       "9996        9996                                             Dynamo   \n",
       "9997        9997                              The Republic of Trees   \n",
       "9998        9998                     Waking Up (Healing Hearts, #1)   \n",
       "9999        9999                 Bits and Pieces: Tales and Sonnets   \n",
       "\n",
       "                 Author                                        Description  \\\n",
       "0            Harper Lee  The unforgettable novel of a childhood in a sl...   \n",
       "1          J.K. Rowling  Harry Potter thinks he is an ordinary boy - un...   \n",
       "2           Jane Austen  Since its immediate success in 1813, Pride and...   \n",
       "3            Anne Frank  Discovered in the attic in which she spent the...   \n",
       "4         George Orwell  Librarian's note: There is an Alternate Cover ...   \n",
       "...                 ...                                                ...   \n",
       "9995     Ashley Quigley  How far would you go? If human society was gen...   \n",
       "9996  Eleanor Gustafson  Jeth Cavanaugh is searching for a new life alo...   \n",
       "9997         Sam Taylor  This dark fable tells the story of four Englis...   \n",
       "9998         Renee Dyer  For Adriana Monroe life couldn’t get any bette...   \n",
       "9999        Jas T. Ward  After demands of thousands of fans in various ...   \n",
       "\n",
       "                                                 Genres  Avg_Rating  \\\n",
       "0     ['Classics', 'Fiction', 'Historical Fiction', ...        4.27   \n",
       "1     ['Fantasy', 'Fiction', 'Young Adult', 'Magic',...        4.47   \n",
       "2     ['Classics', 'Fiction', 'Romance', 'Historical...        4.28   \n",
       "3     ['Classics', 'Nonfiction', 'History', 'Biograp...        4.18   \n",
       "4     ['Classics', 'Fiction', 'Dystopia', 'Fantasy',...        3.98   \n",
       "...                                                 ...         ...   \n",
       "9995  ['Dystopia', 'Science Fiction', 'Post Apocalyp...        3.44   \n",
       "9996                                                 []        4.23   \n",
       "9997  ['Fiction', 'Horror', 'Dystopia', 'Coming Of A...        3.29   \n",
       "9998  ['New Adult', 'Romance', 'Contemporary Romance...        4.13   \n",
       "9999                                                 []        5.00   \n",
       "\n",
       "     Num_Ratings                                                URL  \n",
       "0      5,691,311  https://www.goodreads.com/book/show/2657.To_Ki...  \n",
       "1      9,278,135  https://www.goodreads.com/book/show/72193.Harr...  \n",
       "2      3,944,155  https://www.goodreads.com/book/show/1885.Pride...  \n",
       "3      3,488,438  https://www.goodreads.com/book/show/48855.The_...  \n",
       "4      3,575,172  https://www.goodreads.com/book/show/170448.Ani...  \n",
       "...          ...                                                ...  \n",
       "9995         276  https://www.goodreads.com/book/show/22085400-b...  \n",
       "9996          60  https://www.goodreads.com/book/show/20862902-d...  \n",
       "9997         383  https://www.goodreads.com/book/show/891262.The...  \n",
       "9998         263  https://www.goodreads.com/book/show/19347252-w...  \n",
       "9999          36  https://www.goodreads.com/book/show/21302552-b...  \n",
       "\n",
       "[10000 rows x 8 columns]"
      ]
     },
     "execution_count": 5,
     "metadata": {},
     "output_type": "execute_result"
    }
   ],
   "source": [
    "import pandas as pd\n",
    "import numpy as np\n",
    "from bs4 import BeautifulSoup\n",
    "import requests\n",
    "books = pd.read_csv(f\"{path}/goodreads_data.csv\")\n",
    "books"
   ]
  },
  {
   "cell_type": "code",
   "execution_count": 6,
   "metadata": {},
   "outputs": [],
   "source": [
    "url_scraping = books[books[\"Description\"].isna()][[\"Description\",\"URL\"]]"
   ]
  },
  {
   "cell_type": "code",
   "execution_count": 7,
   "metadata": {},
   "outputs": [],
   "source": [
    "#headers to mimic a real browser\n",
    "headers = {\n",
    "    'User-Agent': 'Mozilla/5.0 (Windows NT 10.0; Win64; x64) AppleWebKit/537.36 (KHTML, like Gecko) Chrome/58.0.3029.110 Safari/537.3'\n",
    "}\n",
    "\n",
    "def scrape_description(url):\n",
    "    response = requests.get(url, headers=headers)\n",
    "    soup = BeautifulSoup(response.text,'html.parser')\n",
    "    \n",
    "    description = soup.find('span',class_=\"Formatted\")\n",
    "    if description:\n",
    "        return description.text.strip()\n",
    "    else:\n",
    "        return \"Description Not Found\"\n",
    "url_scraping[\"Scraped_Descrition\"] = url_scraping[\"URL\"].apply(scrape_description)"
   ]
  },
  {
   "cell_type": "code",
   "execution_count": 8,
   "metadata": {},
   "outputs": [],
   "source": [
    "for idx, row in url_scraping.iterrows():\n",
    "    books.loc[books[\"URL\"] == row[\"URL\"], \"Description\"] = row[\"Scraped_Descrition\"]"
   ]
  },
  {
   "cell_type": "code",
   "execution_count": 11,
   "metadata": {},
   "outputs": [
    {
     "data": {
      "text/plain": [
       "Unnamed: 0     0\n",
       "Book           0\n",
       "Author         0\n",
       "Description    0\n",
       "Genres         0\n",
       "Avg_Rating     0\n",
       "Num_Ratings    0\n",
       "URL            0\n",
       "dtype: int64"
      ]
     },
     "execution_count": 11,
     "metadata": {},
     "output_type": "execute_result"
    }
   ],
   "source": [
    "books.isna().sum()"
   ]
  },
  {
   "cell_type": "code",
   "execution_count": 12,
   "metadata": {},
   "outputs": [],
   "source": [
    "books.to_csv(\"books_scraped.csv\",index = False)"
   ]
  },
  {
   "cell_type": "code",
   "execution_count": 13,
   "metadata": {},
   "outputs": [
    {
     "data": {
      "text/plain": [
       "Unnamed: 0     0\n",
       "Book           0\n",
       "Author         0\n",
       "Description    0\n",
       "Genres         0\n",
       "Avg_Rating     0\n",
       "Num_Ratings    0\n",
       "URL            0\n",
       "dtype: int64"
      ]
     },
     "execution_count": 13,
     "metadata": {},
     "output_type": "execute_result"
    }
   ],
   "source": [
    "books.isna().sum()"
   ]
  },
  {
   "cell_type": "code",
   "execution_count": 15,
   "metadata": {},
   "outputs": [],
   "source": [
    "book = pd.read_csv(\"books_scraped.csv\")"
   ]
  },
  {
   "cell_type": "code",
   "execution_count": 21,
   "metadata": {},
   "outputs": [
    {
     "data": {
      "text/plain": [
       "Unnamed: 0      0\n",
       "Book            0\n",
       "Author          0\n",
       "Description    18\n",
       "Genres          0\n",
       "Avg_Rating      0\n",
       "Num_Ratings     0\n",
       "URL             0\n",
       "dtype: int64"
      ]
     },
     "execution_count": 21,
     "metadata": {},
     "output_type": "execute_result"
    }
   ],
   "source": [
    "book.isna().sum()"
   ]
  },
  {
   "cell_type": "code",
   "execution_count": 31,
   "metadata": {},
   "outputs": [],
   "source": [
    "books_scraped = book.dropna()"
   ]
  },
  {
   "cell_type": "code",
   "execution_count": 32,
   "metadata": {},
   "outputs": [
    {
     "data": {
      "text/plain": [
       "Unnamed: 0     0\n",
       "Book           0\n",
       "Author         0\n",
       "Description    0\n",
       "Genres         0\n",
       "Avg_Rating     0\n",
       "Num_Ratings    0\n",
       "URL            0\n",
       "dtype: int64"
      ]
     },
     "execution_count": 32,
     "metadata": {},
     "output_type": "execute_result"
    }
   ],
   "source": [
    "books_scraped.isna().sum()"
   ]
  },
  {
   "cell_type": "code",
   "execution_count": 49,
   "metadata": {},
   "outputs": [],
   "source": [
    "books_scraped.to_csv(\"book_scraped.csv\",index=False)\n"
   ]
  },
  {
   "cell_type": "code",
   "execution_count": 62,
   "metadata": {},
   "outputs": [],
   "source": [
    "books = pd.read_csv(\"../scraping/book_scraped.csv\")"
   ]
  },
  {
   "cell_type": "code",
   "execution_count": null,
   "metadata": {},
   "outputs": [],
   "source": []
  },
  {
   "cell_type": "code",
   "execution_count": 63,
   "metadata": {},
   "outputs": [],
   "source": [
    "books[\"Genres\"] = books[\"Genres\"].replace(\"[]\",np.nan)"
   ]
  },
  {
   "cell_type": "code",
   "execution_count": 64,
   "metadata": {},
   "outputs": [
    {
     "data": {
      "text/plain": [
       "Unnamed: 0       0\n",
       "Book             0\n",
       "Author           0\n",
       "Description      0\n",
       "Genres         947\n",
       "Avg_Rating       0\n",
       "Num_Ratings      0\n",
       "URL              0\n",
       "dtype: int64"
      ]
     },
     "execution_count": 64,
     "metadata": {},
     "output_type": "execute_result"
    }
   ],
   "source": [
    "books.isna().sum()"
   ]
  },
  {
   "cell_type": "code",
   "execution_count": 67,
   "metadata": {},
   "outputs": [],
   "source": [
    "books_scraped = books.dropna()"
   ]
  },
  {
   "cell_type": "code",
   "execution_count": 68,
   "metadata": {},
   "outputs": [
    {
     "data": {
      "text/plain": [
       "Unnamed: 0     0\n",
       "Book           0\n",
       "Author         0\n",
       "Description    0\n",
       "Genres         0\n",
       "Avg_Rating     0\n",
       "Num_Ratings    0\n",
       "URL            0\n",
       "dtype: int64"
      ]
     },
     "execution_count": 68,
     "metadata": {},
     "output_type": "execute_result"
    }
   ],
   "source": [
    "books_scraped.isna().sum()"
   ]
  },
  {
   "cell_type": "code",
   "execution_count": 69,
   "metadata": {},
   "outputs": [],
   "source": [
    "books_scraped.to_csv(\"books_scraped.csv\",index=False)"
   ]
  },
  {
   "cell_type": "code",
   "execution_count": null,
   "metadata": {},
   "outputs": [],
   "source": []
  }
 ],
 "metadata": {
  "kernelspec": {
   "display_name": "myenv",
   "language": "python",
   "name": "python3"
  },
  "language_info": {
   "codemirror_mode": {
    "name": "ipython",
    "version": 3
   },
   "file_extension": ".py",
   "mimetype": "text/x-python",
   "name": "python",
   "nbconvert_exporter": "python",
   "pygments_lexer": "ipython3",
   "version": "3.12.7"
  }
 },
 "nbformat": 4,
 "nbformat_minor": 2
}
