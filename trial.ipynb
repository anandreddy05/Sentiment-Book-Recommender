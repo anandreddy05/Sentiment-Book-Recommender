{
 "cells": [
  {
   "cell_type": "code",
   "execution_count": 1,
   "metadata": {},
   "outputs": [
    {
     "data": {
      "text/html": [
       "<div>\n",
       "<style scoped>\n",
       "    .dataframe tbody tr th:only-of-type {\n",
       "        vertical-align: middle;\n",
       "    }\n",
       "\n",
       "    .dataframe tbody tr th {\n",
       "        vertical-align: top;\n",
       "    }\n",
       "\n",
       "    .dataframe thead th {\n",
       "        text-align: right;\n",
       "    }\n",
       "</style>\n",
       "<table border=\"1\" class=\"dataframe\">\n",
       "  <thead>\n",
       "    <tr style=\"text-align: right;\">\n",
       "      <th></th>\n",
       "      <th>Unnamed: 0</th>\n",
       "      <th>FormattedBookID</th>\n",
       "      <th>Img_Path</th>\n",
       "      <th>BookID</th>\n",
       "      <th>Book</th>\n",
       "      <th>Author</th>\n",
       "      <th>Description_x</th>\n",
       "      <th>Genres</th>\n",
       "      <th>Avg_Rating</th>\n",
       "      <th>Num_Ratings</th>\n",
       "      <th>URL</th>\n",
       "      <th>Filtered_Genres</th>\n",
       "      <th>Description_y</th>\n",
       "      <th>Emotion</th>\n",
       "      <th>sentiment</th>\n",
       "    </tr>\n",
       "  </thead>\n",
       "  <tbody>\n",
       "    <tr>\n",
       "      <th>0</th>\n",
       "      <td>0</td>\n",
       "      <td>BK000001</td>\n",
       "      <td>https://images-na.ssl-images-amazon.com/images...</td>\n",
       "      <td>1</td>\n",
       "      <td>Harry Potter and the Philosopher’s Stone (Harr...</td>\n",
       "      <td>J.K. Rowling</td>\n",
       "      <td>Harry Potter thinks he is an ordinary boy - un...</td>\n",
       "      <td>['Fantasy', 'Fiction', 'Young Adult', 'Magic',...</td>\n",
       "      <td>4.47</td>\n",
       "      <td>9278135</td>\n",
       "      <td>https://www.goodreads.com/book/show/72193.Harr...</td>\n",
       "      <td>['Fantasy', 'Fiction', 'Young Adult', 'Magic',...</td>\n",
       "      <td>Harry Potter thinks he is an ordinary boy - un...</td>\n",
       "      <td>['fear', 0.774424135684967]</td>\n",
       "      <td>fear</td>\n",
       "    </tr>\n",
       "    <tr>\n",
       "      <th>1</th>\n",
       "      <td>1</td>\n",
       "      <td>BK000002</td>\n",
       "      <td>https://images-na.ssl-images-amazon.com/images...</td>\n",
       "      <td>2</td>\n",
       "      <td>Hungerspelen (The Hunger Games, #1)</td>\n",
       "      <td>Suzanne Collins</td>\n",
       "      <td>24 deltagare. Bara en överlever. Varje år dire...</td>\n",
       "      <td>['Young Adult', 'Fiction', 'Dystopia', 'Fantas...</td>\n",
       "      <td>4.33</td>\n",
       "      <td>7963186</td>\n",
       "      <td>https://www.goodreads.com/book/show/13616052-h...</td>\n",
       "      <td>['Young Adult', 'Fiction', 'Dystopia', 'Fantas...</td>\n",
       "      <td>24 deltagare. Bara en överlever. Varje år dire...</td>\n",
       "      <td>['fear', 0.8872978687286377]</td>\n",
       "      <td>fear</td>\n",
       "    </tr>\n",
       "    <tr>\n",
       "      <th>2</th>\n",
       "      <td>2</td>\n",
       "      <td>BK000003</td>\n",
       "      <td>https://images-na.ssl-images-amazon.com/images...</td>\n",
       "      <td>3</td>\n",
       "      <td>The Hunger Games (The Hunger Games, #1)</td>\n",
       "      <td>Suzanne Collins</td>\n",
       "      <td>Could you survive on your own in the wild, wit...</td>\n",
       "      <td>['Young Adult', 'Fiction', 'Dystopia', 'Fantas...</td>\n",
       "      <td>4.33</td>\n",
       "      <td>7963186</td>\n",
       "      <td>https://www.goodreads.com/book/show/12187803-t...</td>\n",
       "      <td>['Young Adult', 'Fiction', 'Dystopia', 'Fantas...</td>\n",
       "      <td>Could you survive on your own in the wild, wit...</td>\n",
       "      <td>['neutral', 0.943543553352356]</td>\n",
       "      <td>neutral</td>\n",
       "    </tr>\n",
       "    <tr>\n",
       "      <th>3</th>\n",
       "      <td>3</td>\n",
       "      <td>BK000004</td>\n",
       "      <td>https://images-na.ssl-images-amazon.com/images...</td>\n",
       "      <td>4</td>\n",
       "      <td>The Hunger Games (The Hunger Games, #1)</td>\n",
       "      <td>Suzanne Collins</td>\n",
       "      <td>In the ruins of a place once known as North Am...</td>\n",
       "      <td>['Young Adult', 'Fiction', 'Dystopia', 'Fantas...</td>\n",
       "      <td>4.33</td>\n",
       "      <td>7963186</td>\n",
       "      <td>https://www.goodreads.com/book/show/18626858-t...</td>\n",
       "      <td>['Young Adult', 'Fiction', 'Dystopia', 'Fantas...</td>\n",
       "      <td>In the ruins of a place once known as North Am...</td>\n",
       "      <td>['sadness', 0.7970337271690369]</td>\n",
       "      <td>sadness</td>\n",
       "    </tr>\n",
       "    <tr>\n",
       "      <th>4</th>\n",
       "      <td>4</td>\n",
       "      <td>BK000005</td>\n",
       "      <td>https://images-na.ssl-images-amazon.com/images...</td>\n",
       "      <td>5</td>\n",
       "      <td>The Hunger Games (The Hunger Games, #1)</td>\n",
       "      <td>Suzanne Collins</td>\n",
       "      <td>Sometime in the future after the destruction o...</td>\n",
       "      <td>['Young Adult', 'Fiction', 'Dystopia', 'Fantas...</td>\n",
       "      <td>4.33</td>\n",
       "      <td>7963186</td>\n",
       "      <td>https://www.goodreads.com/book/show/12091570-t...</td>\n",
       "      <td>['Young Adult', 'Fiction', 'Dystopia', 'Fantas...</td>\n",
       "      <td>Sometime in the future after the destruction o...</td>\n",
       "      <td>['neutral', 0.8030902743339539]</td>\n",
       "      <td>neutral</td>\n",
       "    </tr>\n",
       "  </tbody>\n",
       "</table>\n",
       "</div>"
      ],
      "text/plain": [
       "   Unnamed: 0 FormattedBookID  \\\n",
       "0           0        BK000001   \n",
       "1           1        BK000002   \n",
       "2           2        BK000003   \n",
       "3           3        BK000004   \n",
       "4           4        BK000005   \n",
       "\n",
       "                                            Img_Path  BookID  \\\n",
       "0  https://images-na.ssl-images-amazon.com/images...       1   \n",
       "1  https://images-na.ssl-images-amazon.com/images...       2   \n",
       "2  https://images-na.ssl-images-amazon.com/images...       3   \n",
       "3  https://images-na.ssl-images-amazon.com/images...       4   \n",
       "4  https://images-na.ssl-images-amazon.com/images...       5   \n",
       "\n",
       "                                                Book           Author  \\\n",
       "0  Harry Potter and the Philosopher’s Stone (Harr...     J.K. Rowling   \n",
       "1                Hungerspelen (The Hunger Games, #1)  Suzanne Collins   \n",
       "2            The Hunger Games (The Hunger Games, #1)  Suzanne Collins   \n",
       "3            The Hunger Games (The Hunger Games, #1)  Suzanne Collins   \n",
       "4            The Hunger Games (The Hunger Games, #1)  Suzanne Collins   \n",
       "\n",
       "                                       Description_x  \\\n",
       "0  Harry Potter thinks he is an ordinary boy - un...   \n",
       "1  24 deltagare. Bara en överlever. Varje år dire...   \n",
       "2  Could you survive on your own in the wild, wit...   \n",
       "3  In the ruins of a place once known as North Am...   \n",
       "4  Sometime in the future after the destruction o...   \n",
       "\n",
       "                                              Genres  Avg_Rating  Num_Ratings  \\\n",
       "0  ['Fantasy', 'Fiction', 'Young Adult', 'Magic',...        4.47      9278135   \n",
       "1  ['Young Adult', 'Fiction', 'Dystopia', 'Fantas...        4.33      7963186   \n",
       "2  ['Young Adult', 'Fiction', 'Dystopia', 'Fantas...        4.33      7963186   \n",
       "3  ['Young Adult', 'Fiction', 'Dystopia', 'Fantas...        4.33      7963186   \n",
       "4  ['Young Adult', 'Fiction', 'Dystopia', 'Fantas...        4.33      7963186   \n",
       "\n",
       "                                                 URL  \\\n",
       "0  https://www.goodreads.com/book/show/72193.Harr...   \n",
       "1  https://www.goodreads.com/book/show/13616052-h...   \n",
       "2  https://www.goodreads.com/book/show/12187803-t...   \n",
       "3  https://www.goodreads.com/book/show/18626858-t...   \n",
       "4  https://www.goodreads.com/book/show/12091570-t...   \n",
       "\n",
       "                                     Filtered_Genres  \\\n",
       "0  ['Fantasy', 'Fiction', 'Young Adult', 'Magic',...   \n",
       "1  ['Young Adult', 'Fiction', 'Dystopia', 'Fantas...   \n",
       "2  ['Young Adult', 'Fiction', 'Dystopia', 'Fantas...   \n",
       "3  ['Young Adult', 'Fiction', 'Dystopia', 'Fantas...   \n",
       "4  ['Young Adult', 'Fiction', 'Dystopia', 'Fantas...   \n",
       "\n",
       "                                       Description_y  \\\n",
       "0  Harry Potter thinks he is an ordinary boy - un...   \n",
       "1  24 deltagare. Bara en överlever. Varje år dire...   \n",
       "2  Could you survive on your own in the wild, wit...   \n",
       "3  In the ruins of a place once known as North Am...   \n",
       "4  Sometime in the future after the destruction o...   \n",
       "\n",
       "                           Emotion sentiment  \n",
       "0      ['fear', 0.774424135684967]      fear  \n",
       "1     ['fear', 0.8872978687286377]      fear  \n",
       "2   ['neutral', 0.943543553352356]   neutral  \n",
       "3  ['sadness', 0.7970337271690369]   sadness  \n",
       "4  ['neutral', 0.8030902743339539]   neutral  "
      ]
     },
     "execution_count": 1,
     "metadata": {},
     "output_type": "execute_result"
    }
   ],
   "source": [
    "import pandas as pd\n",
    "df = pd.read_csv(\"./datasets/books_with_image_paths.csv\")\n",
    "df.head()"
   ]
  },
  {
   "cell_type": "code",
   "execution_count": 2,
   "metadata": {},
   "outputs": [
    {
     "data": {
      "text/plain": [
       "array(['fear', 'neutral', 'sadness', 'joy', 'surprise', 'disgust',\n",
       "       'anger'], dtype=object)"
      ]
     },
     "execution_count": 2,
     "metadata": {},
     "output_type": "execute_result"
    }
   ],
   "source": [
    "df[\"sentiment\"].unique()"
   ]
  },
  {
   "cell_type": "code",
   "execution_count": 3,
   "metadata": {},
   "outputs": [
    {
     "data": {
      "text/plain": [
       "Index(['Unnamed: 0', 'FormattedBookID', 'Img_Path', 'BookID', 'Book', 'Author',\n",
       "       'Description_x', 'Genres', 'Avg_Rating', 'Num_Ratings', 'URL',\n",
       "       'Filtered_Genres', 'Description_y', 'Emotion', 'sentiment'],\n",
       "      dtype='object')"
      ]
     },
     "execution_count": 3,
     "metadata": {},
     "output_type": "execute_result"
    }
   ],
   "source": [
    "df.columns"
   ]
  },
  {
   "cell_type": "code",
   "execution_count": 6,
   "metadata": {},
   "outputs": [
    {
     "data": {
      "text/plain": [
       "0       Harry Potter thinks he is an ordinary boy - un...\n",
       "1       24 deltagare. Bara en överlever. Varje år dire...\n",
       "2       Could you survive on your own in the wild, wit...\n",
       "3       In the ruins of a place once known as North Am...\n",
       "4       Sometime in the future after the destruction o...\n",
       "                              ...                        \n",
       "8840    En dystopisk framtidsskildring av en värld eft...\n",
       "8841    In only a few generations, our species will ei...\n",
       "8842    In 1000 B.C., two 10-year-old boys, Zeth and C...\n",
       "8843    Marco Polo, a Medieval Venetian, traveled thro...\n",
       "8844    One island, dangerous on the outside, surround...\n",
       "Name: Description_y, Length: 8845, dtype: object"
      ]
     },
     "execution_count": 6,
     "metadata": {},
     "output_type": "execute_result"
    }
   ],
   "source": []
  },
  {
   "cell_type": "code",
   "execution_count": null,
   "metadata": {},
   "outputs": [],
   "source": []
  }
 ],
 "metadata": {
  "kernelspec": {
   "display_name": "myenv",
   "language": "python",
   "name": "python3"
  },
  "language_info": {
   "codemirror_mode": {
    "name": "ipython",
    "version": 3
   },
   "file_extension": ".py",
   "mimetype": "text/x-python",
   "name": "python",
   "nbconvert_exporter": "python",
   "pygments_lexer": "ipython3",
   "version": "3.12.7"
  }
 },
 "nbformat": 4,
 "nbformat_minor": 2
}
